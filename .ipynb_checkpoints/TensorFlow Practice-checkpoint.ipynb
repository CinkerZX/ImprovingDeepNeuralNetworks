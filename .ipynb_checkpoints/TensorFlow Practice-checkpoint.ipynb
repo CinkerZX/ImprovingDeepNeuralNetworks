{
 "cells": [
  {
   "cell_type": "code",
   "execution_count": 6,
   "id": "8d3389ff",
   "metadata": {
    "scrolled": true
   },
   "outputs": [],
   "source": [
    "import numpy as np\n",
    "import tensorflow as tf"
   ]
  },
  {
   "cell_type": "code",
   "execution_count": 9,
   "id": "712bccb2",
   "metadata": {},
   "outputs": [
    {
     "name": "stdout",
     "output_type": "stream",
     "text": [
      "<tf.Variable 'Variable:0' shape=() dtype=float32, numpy=0.0>\n"
     ]
    }
   ],
   "source": [
    "# define W\n",
    "w = tf.Variable(0, dtype=tf.float32)\n",
    "# define opt alg: Adam\n",
    "# learning rate: 0.1\n",
    "optimizer = tf.keras.optimizers.Adam(0.1)\n",
    "\n",
    "def train_step():\n",
    "    with tf.GradientTape() as tape:\n",
    "        # define cost function\n",
    "        cost = w ** 2 - 10 * w +25\n",
    "    \n",
    "    trainable_variables = [w]\n",
    "    \n",
    "    grads = tape.gradient(cost, trainable_variables)\n",
    "    \n",
    "    optimizer.apply_gradients(zip(grads, trainable_variables))\n",
    "\n",
    "print(w)\n",
    "    "
   ]
  },
  {
   "cell_type": "code",
   "execution_count": 10,
   "id": "656dd282",
   "metadata": {},
   "outputs": [
    {
     "name": "stdout",
     "output_type": "stream",
     "text": [
      "<tf.Variable 'Variable:0' shape=() dtype=float32, numpy=0.09999997>\n"
     ]
    }
   ],
   "source": [
    "train_step()\n",
    "print(w)"
   ]
  },
  {
   "cell_type": "code",
   "execution_count": 11,
   "id": "3c115c99",
   "metadata": {},
   "outputs": [
    {
     "name": "stdout",
     "output_type": "stream",
     "text": [
      "<tf.Variable 'Variable:0' shape=() dtype=float32, numpy=5.000001>\n"
     ]
    }
   ],
   "source": [
    "for i in range(1000):\n",
    "    train_step()\n",
    "print(w)"
   ]
  },
  {
   "cell_type": "code",
   "execution_count": 16,
   "id": "ed49427d",
   "metadata": {},
   "outputs": [],
   "source": [
    "# Get traning dataset into TensorFlow\n",
    "w = tf.Variable(0, dtype=tf.float32)\n",
    "x = np.array([1.0, -10.0, 25.0], dtype=np.float32)\n",
    "optimizer = tf.keras.optimizers.Adam(0.1)\n",
    "\n",
    "# def cost_fun():\n",
    "#     return x[0]*w ** 2 +x[1] * w + x[2]\n",
    "\n",
    "# print(w)\n",
    "\n",
    "# optimizer.minimize(cost_fun, [w])\n",
    "# print(w)\n",
    "\n",
    "def traning(X, W, Optimizer):\n",
    "    def cost_fun():\n",
    "        return X[0]*W ** 2 +X[1] * w + X[2]\n",
    "    for i in range(1000):\n",
    "        Optimizer.minimize(cost_fun, [W])\n",
    "    return w"
   ]
  },
  {
   "cell_type": "code",
   "execution_count": 17,
   "id": "9eb414b3",
   "metadata": {},
   "outputs": [
    {
     "name": "stdout",
     "output_type": "stream",
     "text": [
      "<tf.Variable 'Variable:0' shape=() dtype=float32, numpy=5.000001>\n"
     ]
    }
   ],
   "source": [
    "w = traning(x, w, optimizer)\n",
    "print(w)"
   ]
  }
 ],
 "metadata": {
  "kernelspec": {
   "display_name": "Python 3 (ipykernel)",
   "language": "python",
   "name": "python3"
  },
  "language_info": {
   "codemirror_mode": {
    "name": "ipython",
    "version": 3
   },
   "file_extension": ".py",
   "mimetype": "text/x-python",
   "name": "python",
   "nbconvert_exporter": "python",
   "pygments_lexer": "ipython3",
   "version": "3.9.13"
  }
 },
 "nbformat": 4,
 "nbformat_minor": 5
}
